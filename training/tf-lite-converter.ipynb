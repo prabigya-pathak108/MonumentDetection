{
 "cells": [
  {
   "cell_type": "markdown",
   "id": "321f4648",
   "metadata": {},
   "source": [
    "# Convert a Saved Model to TF-Lite Model"
   ]
  },
  {
   "cell_type": "markdown",
   "id": "76db9e56",
   "metadata": {},
   "source": [
    "### Import all the Dependencies"
   ]
  },
  {
   "cell_type": "code",
   "execution_count": 1,
   "id": "6de02869",
   "metadata": {},
   "outputs": [],
   "source": [
    "import numpy as np\n",
    "import pickle\n",
    "import os\n",
    "from sklearn.preprocessing import LabelBinarizer\n",
    "from tensorflow.keras import models, layers\n",
    "from tensorflow.keras.preprocessing.image import ImageDataGenerator\n",
    "from tensorflow.keras.preprocessing import image\n",
    "from tensorflow.keras.preprocessing.image import img_to_array\n",
    "import tensorflow as tf\n",
    "import matplotlib.pyplot as plt\n",
    "from tensorflow.keras import backend as K\n",
    "import sklearn"
   ]
  },
  {
   "cell_type": "markdown",
   "id": "64c5670a",
   "metadata": {},
   "source": [
    "### Set all the Constants"
   ]
  },
  {
   "cell_type": "code",
   "execution_count": 2,
   "id": "a03aca26",
   "metadata": {},
   "outputs": [],
   "source": [
    "INIT_LR = 1e-3\n",
    "BATCH_SIZE = 32\n",
    "EPOCHS = 100\n",
    "IMAGE_SIZE = 128\n",
    "default_image_size = tuple((IMAGE_SIZE, IMAGE_SIZE))\n",
    "image_size = 0\n",
    "data_dir = \"images\"\n",
    "CHANNELS=3"
   ]
  },
  {
   "cell_type": "markdown",
   "id": "0b428d28",
   "metadata": {},
   "source": [
    "### Split Dataset\n",
    "\n",
    "Dataset should be bifurcated into 3 subsets, namely:\n",
    "1. Training: Dataset to be used while training\n",
    "2. Validation: Dataset to be tested against while training\n",
    "3. Test: Dataset to be tested against after we trained a model"
   ]
  },
  {
   "cell_type": "code",
   "execution_count": 3,
   "id": "2c4e5996",
   "metadata": {},
   "outputs": [
    {
     "name": "stdout",
     "output_type": "stream",
     "text": [
      "Found 1919 files belonging to 9 classes.\n"
     ]
    }
   ],
   "source": [
    "def get_dataset_partitions_tf(ds, train_split=0.8, val_split=0.1, test_split=0.1, shuffle=True, shuffle_size=10000):\n",
    "    assert (train_split + test_split + val_split) == 1\n",
    "    \n",
    "    ds_size = ds.cardinality().numpy()\n",
    "    \n",
    "    if shuffle:\n",
    "        ds = ds.shuffle(shuffle_size, seed=12)\n",
    "    \n",
    "    train_size = int(train_split * ds_size)\n",
    "    val_size = int(val_split * ds_size)\n",
    "    \n",
    "    train_ds = ds.take(train_size)    \n",
    "    val_ds = ds.skip(train_size).take(val_size)\n",
    "    test_ds = ds.skip(train_size).skip(val_size)\n",
    "    \n",
    "    return train_ds, val_ds, test_ds\n",
    "\n",
    "dataset = tf.keras.preprocessing.image_dataset_from_directory(\n",
    "  data_dir,\n",
    "  seed=123,\n",
    "  image_size=default_image_size,\n",
    "  batch_size=BATCH_SIZE\n",
    ")\n",
    "\n",
    "\n",
    "train_ds, val_ds, test_ds = get_dataset_partitions_tf(dataset)"
   ]
  },
  {
   "cell_type": "code",
   "execution_count": 4,
   "id": "08519465",
   "metadata": {},
   "outputs": [
    {
     "data": {
      "text/plain": [
       "['Bhimsen_Temple',\n",
       " 'Char_Narayan_Temple',\n",
       " 'Dhungey_Dhara',\n",
       " 'Garuda_Pillar',\n",
       " 'Harishankara_temple',\n",
       " 'Krishna_Mandir',\n",
       " 'Narayan_Temple',\n",
       " 'Octagonal_Chyasing_Deval',\n",
       " 'Vishwanath_Temple']"
      ]
     },
     "execution_count": 4,
     "metadata": {},
     "output_type": "execute_result"
    }
   ],
   "source": [
    "class_names = dataset.class_names\n",
    "class_names\n"
   ]
  },
  {
   "cell_type": "markdown",
   "id": "9a76620f",
   "metadata": {},
   "source": [
    "### Convert the Saved Model to TF Lite Model"
   ]
  },
  {
   "cell_type": "code",
   "execution_count": 5,
   "id": "ed89e36c",
   "metadata": {},
   "outputs": [],
   "source": [
    "model=tf.keras.models.load_model(\"../saved_models/5\")"
   ]
  },
  {
   "cell_type": "code",
   "execution_count": 6,
   "id": "17547b68",
   "metadata": {
    "scrolled": true
   },
   "outputs": [
    {
     "name": "stdout",
     "output_type": "stream",
     "text": [
      "INFO:tensorflow:Assets written to: C:\\Users\\pokha\\AppData\\Local\\Temp\\tmpnctlgwz4\\assets\n"
     ]
    },
    {
     "name": "stderr",
     "output_type": "stream",
     "text": [
      "INFO:tensorflow:Assets written to: C:\\Users\\pokha\\AppData\\Local\\Temp\\tmpnctlgwz4\\assets\n"
     ]
    }
   ],
   "source": [
    "converter = tf.lite.TFLiteConverter.from_keras_model(model)\n",
    "converter.optimizations = [tf.lite.Optimize.DEFAULT]\n",
    "tflite_model = converter.convert()"
   ]
  },
  {
   "cell_type": "code",
   "execution_count": null,
   "id": "e515544a",
   "metadata": {},
   "outputs": [],
   "source": [
    "# interpreter = tf.lite.Interpreter(model_content=tflite_model)\n",
    "# interpreter.allocate_tensors()"
   ]
  },
  {
   "cell_type": "markdown",
   "id": "f810ddf3",
   "metadata": {},
   "source": [
    "### Evaluate the TF Lite Model"
   ]
  },
  {
   "cell_type": "code",
   "execution_count": 8,
   "id": "bde6ebe3",
   "metadata": {},
   "outputs": [],
   "source": [
    "# Resize input shape for dynamic shape model and allocate tensor\n",
    "interpreter = tf.lite.Interpreter(model_content=tflite_model)\n",
    "interpreter.resize_tensor_input(interpreter.get_input_details()[0]['index'], (1,128,128,3))\n",
    "interpreter.allocate_tensors()"
   ]
  },
  {
   "cell_type": "code",
   "execution_count": null,
   "id": "9882c291",
   "metadata": {},
   "outputs": [],
   "source": [
    "# test_image.shape"
   ]
  },
  {
   "cell_type": "code",
   "execution_count": null,
   "id": "a5ae3e20",
   "metadata": {},
   "outputs": [],
   "source": [
    "def evaluate_tflite_model(dataset, interpreter):\n",
    "    input_index = interpreter.get_input_details()[0][\"index\"]\n",
    "    output_index = interpreter.get_output_details()[0][\"index\"]\n",
    "\n",
    "    prediction_digits = []\n",
    "    test_labels = []\n",
    "    for image, label in dataset.unbatch().take(dataset.unbatch().cardinality()):\n",
    "\n",
    "        test_image = np.expand_dims(image, axis=0).astype(np.float32)\n",
    "#         test_image.shape\n",
    "#         interpreter.resize_tensor_input(input_index, test_image.shape)\n",
    "#         interpreter.allocate_tensors()\n",
    "        interpreter.set_tensor(input_index,  test_image)\n",
    "        interpreter.invoke()\n",
    "        \n",
    "        output = interpreter.tensor(output_index)\n",
    "        digit = np.argmax(output()[0])\n",
    "        prediction_digits.append(digit)\n",
    "        test_labels.append(label)\n",
    "\n",
    "    prediction_digits = np.array(prediction_digits)\n",
    "    accuracy = (prediction_digits == test_labels).mean()\n",
    "    return accuracy\n",
    "\n",
    "interpreter = tf.lite.Interpreter(model_content=tflite_model)\n",
    "interpreter.resize_tensor_input(interpreter.get_input_details()[0]['index'], (1,128,128,3))\n",
    "interpreter.allocate_tensors()\n",
    "\n",
    "test_accuracy = evaluate_tflite_model(dataset, interpreter)\n",
    "\n",
    "print('TFLite test_accuracy:', test_accuracy)\n",
    "\n"
   ]
  },
  {
   "cell_type": "markdown",
   "id": "29f4315e",
   "metadata": {},
   "source": [
    "### Save the TF Lite Model"
   ]
  },
  {
   "cell_type": "code",
   "execution_count": 7,
   "id": "015b8517",
   "metadata": {
    "scrolled": true
   },
   "outputs": [],
   "source": [
    "import os\n",
    "model_version = max([int(i.split(\".\")[0]) for i in (os.listdir(\"../tf-lite-models\")+[\"0.tflite\"])]) + 1\n",
    "\n",
    "with open(\n",
    "    f\"../tf-lite-models/{model_version}.tflite\",\n",
    "    'wb'\n",
    ") as f:\n",
    "    f.write(tflite_model)"
   ]
  },
  {
   "cell_type": "markdown",
   "id": "d44674b3",
   "metadata": {},
   "source": [
    "### Plotting the Inference Data"
   ]
  },
  {
   "cell_type": "code",
   "execution_count": null,
   "id": "3ef7972f",
   "metadata": {},
   "outputs": [],
   "source": [
    "input_index = interpreter.get_input_details()[0][\"index\"]\n",
    "output_index = interpreter.get_output_details()[0][\"index\"]\n",
    "\n",
    "plt.figure(figsize=(15, 15))\n",
    "for images, labels in test_ds.take(1):\n",
    "    for i in range(9):\n",
    "        ax = plt.subplot(3, 3, i + 1)\n",
    "        plt.imshow(images[i].numpy().astype(\"uint8\"))        \n",
    "\n",
    "        actual_class = class_names[labels[i]]\n",
    "\n",
    "        test_image = np.expand_dims(images[i], axis=0).astype(np.float32)\n",
    "        interpreter.set_tensor(input_index, test_image)\n",
    "        interpreter.invoke()\n",
    "        output = interpreter.tensor(output_index)\n",
    "        digit = np.argmax(output()[0])\n",
    "\n",
    "        predicted_class = class_names[digit]\n",
    "        confidence = np.max(output()[0])*100\n",
    "\n",
    "        plt.title(f\"Actual: {actual_class},\\n Predicted: {predicted_class}.\\n Confidence: {confidence}%\")\n",
    "        plt.axis(\"off\")"
   ]
  }
 ],
 "metadata": {
  "kernelspec": {
   "display_name": "Python 3 (ipykernel)",
   "language": "python",
   "name": "python3"
  },
  "language_info": {
   "codemirror_mode": {
    "name": "ipython",
    "version": 3
   },
   "file_extension": ".py",
   "mimetype": "text/x-python",
   "name": "python",
   "nbconvert_exporter": "python",
   "pygments_lexer": "ipython3",
   "version": "3.11.5"
  }
 },
 "nbformat": 4,
 "nbformat_minor": 5
}
